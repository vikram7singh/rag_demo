{
 "cells": [
  {
   "cell_type": "code",
   "execution_count": null,
   "metadata": {},
   "outputs": [],
   "source": [
    "from dotenv import load_dotenv\n",
    "load_dotenv()\n",
    "\n",
    "from custom_gmail_reader import CustomGmailReader\n",
    "\n",
    "# Instantiate the CustomGmailReader\n",
    "loader = CustomGmailReader(\n",
    "    query=\"\",\n",
    "    max_results=50,\n",
    "    results_per_page=10,\n",
    "    service=None\n",
    ")\n",
    "\n",
    "# Load the emails\n",
    "documents = loader.load_data()\n",
    "\n",
    "# Print email information\n",
    "print(f\"Number of documents: {len(documents)}\")\n",
    "for i, doc in enumerate(documents[:20]):\n",
    "    print(f\"Document {i+1}:\")\n",
    "    print(f\"To: {doc.metadata.get('to', 'N/A')}\")\n",
    "    print(f\"From: {doc.metadata.get('from', 'N/A')}\")\n",
    "    print(f\"Subject: {doc.metadata.get('subject', 'N/A')}\")\n",
    "    print(f\"Date: {doc.metadata.get('date', 'N/A')}\")\n",
    "    print(f\"Content snippet: {doc.text[:1000]}...\")\n",
    "    print(\"=\" * 50)"
   ]
  }
 ],
 "metadata": {
  "kernelspec": {
   "display_name": ".venv",
   "language": "python",
   "name": "python3"
  },
  "language_info": {
   "name": "python",
   "version": "3.11.8"
  }
 },
 "nbformat": 4,
 "nbformat_minor": 2
}
